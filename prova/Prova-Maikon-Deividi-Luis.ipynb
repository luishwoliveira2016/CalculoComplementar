{
 "cells": [
  {
   "cell_type": "markdown",
   "metadata": {},
   "source": [
    "Problema 01-Estima-se que a produção semanal de uma fábrica é dada pela função f(x,y) = 1.200x+ 500y+ x2y – x3 – y2unidades, \n",
    "    onde x é o número de operáriosespecializados e y o número de operários não especializados utilizados no trabalho. \n",
    "    Nomomento, a mão de obra disponível é constituída por 30 operários especializados e 60operários não especializados. \n",
    "    Use a análise marginal para estimar a variação daprodução se mais 1 operário especializado \n",
    "    for contratado e o número de operários nãoespecializado permanecer constante"
   ]
  },
  {
   "cell_type": "code",
   "execution_count": null,
   "metadata": {},
   "outputs": [],
   "source": [
    "import numpy as np\n",
    "f = lambda x: 1200*x + 500*y + (x**2)*y - x**3 - y**2\n",
    "def derivada_parcial(f, a, h=0.01):\n",
    "  return (f(a+h)-f(a-h))/(2*h)\n",
    "\n",
    "derivada_parcial(f, 30,60)\n",
    "print(f)\n",
    "\n",
    "#Derivada Parcial - x(x,y)=1200 + 2xy - 3x²\n",
    "#Fazendo manualmente -> x(30,60)=1200 + 2*(30)*(60) - 3*(30)² = 2100 unidades (essa é a taxa de variação)"
   ]
  },
  {
   "cell_type": "markdown",
   "metadata": {},
   "source": [
    "Problema 02:Um empresário calcula que, quando xunidades de um certo produto sãofabricadas, o lucro é dado por f(x) = - 400x2+ 6.800x-12.000 reais. \n",
    "Qual é a taxa devariação do lucro em relação ao nível de produção xquando estão sendo produzidas9.000 unidades?"
   ]
  },
  {
   "cell_type": "code",
   "execution_count": 1,
   "metadata": {},
   "outputs": [
    {
     "name": "stdout",
     "output_type": "stream",
     "text": [
      "6800 - 800*x\n",
      "900\n",
      "-713200\n"
     ]
    }
   ],
   "source": [
    "import numpy as np\n",
    "import sympy as sp\n",
    "x = sp.symbols('x')\n",
    "f = sp.diff(-400*x**2 + 6800*x-12000)\n",
    "print(f)\n",
    "x = sp.symbols('x')\n",
    "x=900\n",
    "print(x)\n",
    "f= (-800*x +6800)\n",
    "print(f)\n",
    "\n",
    "#Derivadada função lucro nos dá a taxa de variação"
   ]
  },
  {
   "cell_type": "markdown",
   "metadata": {},
   "source": [
    "Problema 03:ÁREA SUPERFICIAL DO CORPO HUMANO É dada pela expressãoempírica S(W, H) = 0,0072W0,425 H0,725 , onde W (Kg) e H(cm), \n",
    "são, respectivamente, opeso e a altura da pessoa. No momento, uma certa criança pesa 34Kg e tem 1m e 20cmde altura."
   ]
  },
  {
   "cell_type": "code",
   "execution_count": 2,
   "metadata": {},
   "outputs": [
    {
     "name": "stdout",
     "output_type": "stream",
     "text": [
      "5.7651005133996236e-05\n",
      "5.6998251095397023e-05\n"
     ]
    }
   ],
   "source": [
    "import numpy as np\n",
    "\n",
    "def derivada_parcial(funcao,W,H, h=1):\n",
    "    x = W\n",
    "    y = H\n",
    "    return (funcao(x+h/2,y+h/2)-f(x-h/2,y+h/2)-f(x+h/2,y-h/2)+f(x-h/2,y-h/2))/(h**2)\n",
    "\n",
    "f = lambda W,H: (0.0072*W**0.425*H**0.725)\n",
    "\n",
    "d_parcial = derivada_parcial(f, 50, 163)\n",
    "\n",
    "print(d_parcial)\n",
    "\n",
    "f = lambda W,H: (0.0072*W**0.425*H**0.725)\n",
    "d_parcial2 = derivada_parcial(f, 50+1, 163)\n",
    "\n",
    "print(d_parcial2)"
   ]
  },
  {
   "cell_type": "code",
   "execution_count": null,
   "metadata": {},
   "outputs": [],
   "source": []
  }
 ],
 "metadata": {
  "kernelspec": {
   "display_name": "Python 3",
   "language": "python",
   "name": "python3"
  },
  "language_info": {
   "codemirror_mode": {
    "name": "ipython",
    "version": 3
   },
   "file_extension": ".py",
   "mimetype": "text/x-python",
   "name": "python",
   "nbconvert_exporter": "python",
   "pygments_lexer": "ipython3",
   "version": "3.7.3"
  }
 },
 "nbformat": 4,
 "nbformat_minor": 4
}
